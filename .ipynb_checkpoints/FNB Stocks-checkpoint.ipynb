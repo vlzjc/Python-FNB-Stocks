{
 "cells": [
  {
   "cell_type": "markdown",
   "id": "990bd948-f96c-4c19-be58-8de16b4d20de",
   "metadata": {},
   "source": [
    "Before Getting Started make sure you got pip and python 3.8 or higher"
   ]
  },
  {
   "cell_type": "markdown",
   "id": "777201ff-20e7-4473-a231-1edcc9b51eab",
   "metadata": {},
   "source": [
    "I am using a Jupyter Notebook and I might already have these libraries but going to run it just in case"
   ]
  },
  {
   "cell_type": "code",
   "execution_count": null,
   "id": "627bd48c-3b2b-4b6c-ae8e-9987683631a5",
   "metadata": {
    "jupyter": {
     "source_hidden": true
    },
    "scrolled": true
   },
   "outputs": [],
   "source": [
    "pip install pandas numpy matplotlib yfinance seaborn"
   ]
  },
  {
   "cell_type": "markdown",
   "id": "2b1dbbda-49cb-4dfe-943f-3cb8dbe2623d",
   "metadata": {},
   "source": [
    "These are the following companies we are going to use for analyzing:\n",
    "San Miguel Corporation (SMGBF)\n",
    "Jollibee Foods Corporation (JBFCY)\n",
    "Universal Robina Corporation (UVRBF)\n",
    "Mondelez International, Inc.(MDLZ)"
   ]
  },
  {
   "cell_type": "markdown",
   "id": "03fc136f-c717-4652-ac8e-5a087c541f03",
   "metadata": {},
   "source": [
    "yfinance is a library for fetching historical stock data"
   ]
  },
  {
   "cell_type": "code",
   "execution_count": 2,
   "id": "bae9b836-d254-41da-b3e0-0157942edac5",
   "metadata": {},
   "outputs": [],
   "source": [
    "import os #for files read and write"
   ]
  },
  {
   "cell_type": "code",
   "execution_count": 3,
   "id": "5b876d49-95eb-4e3e-a90e-851dc0198070",
   "metadata": {},
   "outputs": [],
   "source": [
    "import yfinance as yf "
   ]
  },
  {
   "cell_type": "markdown",
   "id": "a33b296d-5ce4-408a-90c5-449f1f2af902",
   "metadata": {},
   "source": [
    "pandas for Data Exploration and Data Cleaning"
   ]
  },
  {
   "cell_type": "code",
   "execution_count": 4,
   "id": "0064b911-d3d0-454e-ad0b-2bed417697c8",
   "metadata": {},
   "outputs": [],
   "source": [
    "import pandas as pd\n",
    "from pandas import Series,DataFrame"
   ]
  },
  {
   "cell_type": "markdown",
   "id": "3c770890-5333-45be-843d-d3049e926b41",
   "metadata": {},
   "source": [
    "seaborn and matplotlib for Data Visualization (Honestly when I heard about these in 2016 or 17 I thought these were YouTubers)"
   ]
  },
  {
   "cell_type": "code",
   "execution_count": 23,
   "id": "379c120f-2ab1-407f-932d-efbbde7c31a4",
   "metadata": {},
   "outputs": [],
   "source": [
    "import matplotlib.pyplot as plt\n",
    "import seaborn as sns\n",
    "%matplotlib inline \n",
    "# For time stamps\n",
    "from datetime import datetime\n",
    "# For division in Python 3\n",
    "from __future__ import division"
   ]
  },
  {
   "cell_type": "markdown",
   "id": "93f93fe8-cbb7-4363-9c1f-94181013bdc7",
   "metadata": {},
   "source": [
    "fetching the data stock"
   ]
  },
  {
   "cell_type": "code",
   "execution_count": 80,
   "id": "78084e63-7319-4f95-97be-4c2b983dac0c",
   "metadata": {
    "scrolled": true
   },
   "outputs": [
    {
     "name": "stderr",
     "output_type": "stream",
     "text": [
      "[*********************100%***********************]  1 of 1 completed\n",
      "[*********************100%***********************]  1 of 1 completed\n",
      "[*********************100%***********************]  1 of 1 completed\n",
      "[*********************100%***********************]  1 of 1 completed\n"
     ]
    }
   ],
   "source": [
    "# Fetch stock data\n",
    "def fetch_stock_data(ticker, start_date, end_date):\n",
    "    stock_data = yf.download(ticker, start=start_date, end=end_date)\n",
    "    return stock_data\n",
    "smg_data = fetch_stock_data('SMGBF', '2020-01-01', '2023-12-31')\n",
    "jbf_data = fetch_stock_data('JBFCY', '2020-01-01', '2023-12-31')\n",
    "uvr_data = fetch_stock_data('UVRBF', '2020-01-01', '2023-12-31')\n",
    "delm_data = fetch_stock_data('MDLZ', '2020-01-01', '2023-12-31')"
   ]
  },
  {
   "cell_type": "markdown",
   "id": "90705035-bef1-418d-bf1c-01307dcb52cc",
   "metadata": {},
   "source": [
    "checking data"
   ]
  },
  {
   "cell_type": "code",
   "execution_count": 93,
   "id": "de28cdb3-8bd3-4766-82a6-d0c9afa74ebc",
   "metadata": {
    "scrolled": true
   },
   "outputs": [
    {
     "name": "stdout",
     "output_type": "stream",
     "text": [
      "Price        Date     Close      High       Low      Open Volume\n",
      "Ticker                SMGBF     SMGBF     SMGBF     SMGBF  SMGBF\n",
      "0      2020-01-02  2.915794  2.915794  2.915794  2.915794      0\n",
      "1      2020-01-03  2.915794  2.915794  2.915794  2.915794      0\n",
      "2      2020-01-06  2.915794  2.915794  2.915794  2.915794      0\n",
      "3      2020-01-07  2.915794  2.915794  2.915794  2.915794      0\n",
      "4      2020-01-08  2.915794  2.915794  2.915794  2.915794      0\n",
      "Price           Close       High        Low       Open Volume\n",
      "Ticker          JBFCY      JBFCY      JBFCY      JBFCY  JBFCY\n",
      "Date                                                         \n",
      "2020-01-02  16.692209  16.692209  16.692209  16.692209      0\n",
      "2020-01-03  16.692209  16.692209  16.692209  16.692209      0\n",
      "2020-01-06  16.692209  16.692209  16.692209  16.692209      0\n",
      "2020-01-07  16.692209  16.692209  16.692209  16.692209      0\n",
      "2020-01-08  15.598584  15.598584  15.598584  15.598584    100\n",
      "Price          Close      High       Low      Open Volume\n",
      "Ticker         UVRBF     UVRBF     UVRBF     UVRBF  UVRBF\n",
      "Date                                                     \n",
      "2020-01-02  2.538393  2.538393  2.538393  2.538393      0\n",
      "2020-01-03  2.538393  2.538393  2.538393  2.538393      0\n",
      "2020-01-06  2.538393  2.538393  2.538393  2.538393      0\n",
      "2020-01-07  2.538393  2.538393  2.538393  2.538393      0\n",
      "2020-01-08  2.538393  2.538393  2.538393  2.538393      0\n",
      "Price           Close       High        Low       Open   Volume\n",
      "Ticker           MDLZ       MDLZ       MDLZ       MDLZ     MDLZ\n",
      "Date                                                           \n",
      "2020-01-02  48.315449  49.222528  48.119803  48.964634  7272900\n",
      "2020-01-03  48.235409  48.528875  47.986404  48.021976  6791700\n",
      "2020-01-06  48.155384  48.448850  47.888593  48.368813  5906400\n",
      "2020-01-07  47.950832  48.093123  47.639580  48.066442  6716300\n",
      "2020-01-08  48.066452  48.395491  47.941951  48.048666  5435400\n"
     ]
    }
   ],
   "source": [
    "print(smg_data.head())\n",
    "print(jbf_data.head())\n",
    "print(uvr_data.head())\n",
    "print(delm_data.head())"
   ]
  },
  {
   "cell_type": "markdown",
   "id": "90d9dcdf-099d-4049-895c-05e768f9de0d",
   "metadata": {},
   "source": [
    "checking for dupes"
   ]
  },
  {
   "cell_type": "code",
   "execution_count": 94,
   "id": "012b5def-4511-4e42-a7a0-6da0121341b6",
   "metadata": {
    "scrolled": true
   },
   "outputs": [
    {
     "name": "stdout",
     "output_type": "stream",
     "text": [
      "Price   Ticker\n",
      "Date              0\n",
      "Close   SMGBF     0\n",
      "High    SMGBF     0\n",
      "Low     SMGBF     0\n",
      "Open    SMGBF     0\n",
      "Volume  SMGBF     0\n",
      "dtype: int64\n",
      "Price   Ticker\n",
      "Close   JBFCY     0\n",
      "High    JBFCY     0\n",
      "Low     JBFCY     0\n",
      "Open    JBFCY     0\n",
      "Volume  JBFCY     0\n",
      "dtype: int64\n",
      "Price   Ticker\n",
      "Close   UVRBF     0\n",
      "High    UVRBF     0\n",
      "Low     UVRBF     0\n",
      "Open    UVRBF     0\n",
      "Volume  UVRBF     0\n",
      "dtype: int64\n",
      "Price   Ticker\n",
      "Close   MDLZ      0\n",
      "High    MDLZ      0\n",
      "Low     MDLZ      0\n",
      "Open    MDLZ      0\n",
      "Volume  MDLZ      0\n",
      "dtype: int64\n"
     ]
    }
   ],
   "source": [
    "print(smg_data.isnull().sum())\n",
    "print(jbf_data.isnull().sum())\n",
    "print(uvr_data.isnull().sum())\n",
    "print(delm_data.isnull().sum())"
   ]
  },
  {
   "cell_type": "code",
   "execution_count": 95,
   "id": "ef2027e5-11a1-4528-ac04-4658c674e875",
   "metadata": {},
   "outputs": [
    {
     "data": {
      "text/plain": [
       "pandas.core.frame.DataFrame"
      ]
     },
     "execution_count": 95,
     "metadata": {},
     "output_type": "execute_result"
    }
   ],
   "source": [
    "type(smg_data) #I just like to check what type of data we are working with"
   ]
  },
  {
   "cell_type": "markdown",
   "id": "fd2102a2-90b0-44aa-9406-d260000ad812",
   "metadata": {},
   "source": [
    "checking excel file"
   ]
  },
  {
   "cell_type": "code",
   "execution_count": 97,
   "id": "92d619c1-bc01-4023-b7e5-478fcb9a5031",
   "metadata": {},
   "outputs": [
    {
     "name": "stdout",
     "output_type": "stream",
     "text": [
      "True\n"
     ]
    }
   ],
   "source": [
    "path = 'fnbStocks.xlsx'\n",
    "isExist = os.path.exists(path)\n",
    "print(isExist)"
   ]
  },
  {
   "cell_type": "markdown",
   "id": "25b60f98-1cf2-494b-8297-5f4f737524c6",
   "metadata": {},
   "source": [
    "So there was an error making the excel and here you would see that the columns for our data frame has two values "
   ]
  },
  {
   "cell_type": "code",
   "execution_count": 98,
   "id": "5a882476-62d0-4421-b004-612757f2425a",
   "metadata": {},
   "outputs": [
    {
     "data": {
      "text/html": [
       "<div>\n",
       "<style scoped>\n",
       "    .dataframe tbody tr th:only-of-type {\n",
       "        vertical-align: middle;\n",
       "    }\n",
       "\n",
       "    .dataframe tbody tr th {\n",
       "        vertical-align: top;\n",
       "    }\n",
       "\n",
       "    .dataframe thead tr th {\n",
       "        text-align: left;\n",
       "    }\n",
       "</style>\n",
       "<table border=\"1\" class=\"dataframe\">\n",
       "  <thead>\n",
       "    <tr>\n",
       "      <th>Price</th>\n",
       "      <th>Date</th>\n",
       "      <th>Close</th>\n",
       "      <th>High</th>\n",
       "      <th>Low</th>\n",
       "      <th>Open</th>\n",
       "      <th>Volume</th>\n",
       "    </tr>\n",
       "    <tr>\n",
       "      <th>Ticker</th>\n",
       "      <th></th>\n",
       "      <th>SMGBF</th>\n",
       "      <th>SMGBF</th>\n",
       "      <th>SMGBF</th>\n",
       "      <th>SMGBF</th>\n",
       "      <th>SMGBF</th>\n",
       "    </tr>\n",
       "  </thead>\n",
       "  <tbody>\n",
       "    <tr>\n",
       "      <th>0</th>\n",
       "      <td>2020-01-02</td>\n",
       "      <td>2.915794</td>\n",
       "      <td>2.915794</td>\n",
       "      <td>2.915794</td>\n",
       "      <td>2.915794</td>\n",
       "      <td>0</td>\n",
       "    </tr>\n",
       "    <tr>\n",
       "      <th>1</th>\n",
       "      <td>2020-01-03</td>\n",
       "      <td>2.915794</td>\n",
       "      <td>2.915794</td>\n",
       "      <td>2.915794</td>\n",
       "      <td>2.915794</td>\n",
       "      <td>0</td>\n",
       "    </tr>\n",
       "    <tr>\n",
       "      <th>2</th>\n",
       "      <td>2020-01-06</td>\n",
       "      <td>2.915794</td>\n",
       "      <td>2.915794</td>\n",
       "      <td>2.915794</td>\n",
       "      <td>2.915794</td>\n",
       "      <td>0</td>\n",
       "    </tr>\n",
       "    <tr>\n",
       "      <th>3</th>\n",
       "      <td>2020-01-07</td>\n",
       "      <td>2.915794</td>\n",
       "      <td>2.915794</td>\n",
       "      <td>2.915794</td>\n",
       "      <td>2.915794</td>\n",
       "      <td>0</td>\n",
       "    </tr>\n",
       "    <tr>\n",
       "      <th>4</th>\n",
       "      <td>2020-01-08</td>\n",
       "      <td>2.915794</td>\n",
       "      <td>2.915794</td>\n",
       "      <td>2.915794</td>\n",
       "      <td>2.915794</td>\n",
       "      <td>0</td>\n",
       "    </tr>\n",
       "    <tr>\n",
       "      <th>...</th>\n",
       "      <td>...</td>\n",
       "      <td>...</td>\n",
       "      <td>...</td>\n",
       "      <td>...</td>\n",
       "      <td>...</td>\n",
       "      <td>...</td>\n",
       "    </tr>\n",
       "    <tr>\n",
       "      <th>1001</th>\n",
       "      <td>2023-12-22</td>\n",
       "      <td>1.920405</td>\n",
       "      <td>1.920405</td>\n",
       "      <td>1.920405</td>\n",
       "      <td>1.920405</td>\n",
       "      <td>0</td>\n",
       "    </tr>\n",
       "    <tr>\n",
       "      <th>1002</th>\n",
       "      <td>2023-12-26</td>\n",
       "      <td>1.920405</td>\n",
       "      <td>1.920405</td>\n",
       "      <td>1.920405</td>\n",
       "      <td>1.920405</td>\n",
       "      <td>0</td>\n",
       "    </tr>\n",
       "    <tr>\n",
       "      <th>1003</th>\n",
       "      <td>2023-12-27</td>\n",
       "      <td>1.880809</td>\n",
       "      <td>1.969900</td>\n",
       "      <td>1.880809</td>\n",
       "      <td>1.969900</td>\n",
       "      <td>3000</td>\n",
       "    </tr>\n",
       "    <tr>\n",
       "      <th>1004</th>\n",
       "      <td>2023-12-28</td>\n",
       "      <td>1.880809</td>\n",
       "      <td>1.880809</td>\n",
       "      <td>1.880809</td>\n",
       "      <td>1.880809</td>\n",
       "      <td>0</td>\n",
       "    </tr>\n",
       "    <tr>\n",
       "      <th>1005</th>\n",
       "      <td>2023-12-29</td>\n",
       "      <td>1.880809</td>\n",
       "      <td>1.880809</td>\n",
       "      <td>1.880809</td>\n",
       "      <td>1.880809</td>\n",
       "      <td>0</td>\n",
       "    </tr>\n",
       "  </tbody>\n",
       "</table>\n",
       "<p>1006 rows × 6 columns</p>\n",
       "</div>"
      ],
      "text/plain": [
       "Price        Date     Close      High       Low      Open Volume\n",
       "Ticker                SMGBF     SMGBF     SMGBF     SMGBF  SMGBF\n",
       "0      2020-01-02  2.915794  2.915794  2.915794  2.915794      0\n",
       "1      2020-01-03  2.915794  2.915794  2.915794  2.915794      0\n",
       "2      2020-01-06  2.915794  2.915794  2.915794  2.915794      0\n",
       "3      2020-01-07  2.915794  2.915794  2.915794  2.915794      0\n",
       "4      2020-01-08  2.915794  2.915794  2.915794  2.915794      0\n",
       "...           ...       ...       ...       ...       ...    ...\n",
       "1001   2023-12-22  1.920405  1.920405  1.920405  1.920405      0\n",
       "1002   2023-12-26  1.920405  1.920405  1.920405  1.920405      0\n",
       "1003   2023-12-27  1.880809  1.969900  1.880809  1.969900   3000\n",
       "1004   2023-12-28  1.880809  1.880809  1.880809  1.880809      0\n",
       "1005   2023-12-29  1.880809  1.880809  1.880809  1.880809      0\n",
       "\n",
       "[1006 rows x 6 columns]"
      ]
     },
     "metadata": {},
     "output_type": "display_data"
    }
   ],
   "source": [
    "display(smg_data)"
   ]
  },
  {
   "cell_type": "code",
   "execution_count": 99,
   "id": "c9914b7a-7a6f-412a-be8c-29e1b056bd9e",
   "metadata": {},
   "outputs": [
    {
     "data": {
      "text/plain": [
       "MultiIndex([(  'Date',      ''),\n",
       "            ( 'Close', 'SMGBF'),\n",
       "            (  'High', 'SMGBF'),\n",
       "            (   'Low', 'SMGBF'),\n",
       "            (  'Open', 'SMGBF'),\n",
       "            ('Volume', 'SMGBF')],\n",
       "           names=['Price', 'Ticker'])"
      ]
     },
     "metadata": {},
     "output_type": "display_data"
    }
   ],
   "source": [
    "display(smg_data.columns)"
   ]
  },
  {
   "cell_type": "markdown",
   "id": "1d735d72-b74e-49de-8ee6-a34e3a26ff35",
   "metadata": {},
   "source": [
    "reassigned every dataframe with a new column"
   ]
  },
  {
   "cell_type": "code",
   "execution_count": 109,
   "id": "bc67971e-d42d-406c-8267-c0b20570577a",
   "metadata": {},
   "outputs": [],
   "source": [
    "smg_data.columns= [col[0] for col in smg_data.columns]\n",
    "jbf_data.columns=[col[0] for col in jbf_data.columns]\n",
    "uvr_data.columns=[col[0] for col in uvr_data.columns]\n",
    "delm_data.columns=[col[0] for col in delm_data.columns]"
   ]
  },
  {
   "cell_type": "code",
   "execution_count": 110,
   "id": "d53bd4cf-14a2-4cff-979c-905355966047",
   "metadata": {},
   "outputs": [
    {
     "data": {
      "text/plain": [
       "Index(['Date', 'Close', 'High', 'Low', 'Open', 'Volume'], dtype='object')"
      ]
     },
     "metadata": {},
     "output_type": "display_data"
    }
   ],
   "source": [
    "display(smg_data.columns)"
   ]
  },
  {
   "cell_type": "code",
   "execution_count": 111,
   "id": "899f8cea-3a07-47b2-b580-ba2c97bc3f00",
   "metadata": {},
   "outputs": [
    {
     "data": {
      "text/html": [
       "<div>\n",
       "<style scoped>\n",
       "    .dataframe tbody tr th:only-of-type {\n",
       "        vertical-align: middle;\n",
       "    }\n",
       "\n",
       "    .dataframe tbody tr th {\n",
       "        vertical-align: top;\n",
       "    }\n",
       "\n",
       "    .dataframe thead th {\n",
       "        text-align: right;\n",
       "    }\n",
       "</style>\n",
       "<table border=\"1\" class=\"dataframe\">\n",
       "  <thead>\n",
       "    <tr style=\"text-align: right;\">\n",
       "      <th></th>\n",
       "      <th>Date</th>\n",
       "      <th>Close</th>\n",
       "      <th>High</th>\n",
       "      <th>Low</th>\n",
       "      <th>Open</th>\n",
       "      <th>Volume</th>\n",
       "    </tr>\n",
       "  </thead>\n",
       "  <tbody>\n",
       "    <tr>\n",
       "      <th>0</th>\n",
       "      <td>2020-01-02</td>\n",
       "      <td>2.915794</td>\n",
       "      <td>2.915794</td>\n",
       "      <td>2.915794</td>\n",
       "      <td>2.915794</td>\n",
       "      <td>0</td>\n",
       "    </tr>\n",
       "    <tr>\n",
       "      <th>1</th>\n",
       "      <td>2020-01-03</td>\n",
       "      <td>2.915794</td>\n",
       "      <td>2.915794</td>\n",
       "      <td>2.915794</td>\n",
       "      <td>2.915794</td>\n",
       "      <td>0</td>\n",
       "    </tr>\n",
       "    <tr>\n",
       "      <th>2</th>\n",
       "      <td>2020-01-06</td>\n",
       "      <td>2.915794</td>\n",
       "      <td>2.915794</td>\n",
       "      <td>2.915794</td>\n",
       "      <td>2.915794</td>\n",
       "      <td>0</td>\n",
       "    </tr>\n",
       "    <tr>\n",
       "      <th>3</th>\n",
       "      <td>2020-01-07</td>\n",
       "      <td>2.915794</td>\n",
       "      <td>2.915794</td>\n",
       "      <td>2.915794</td>\n",
       "      <td>2.915794</td>\n",
       "      <td>0</td>\n",
       "    </tr>\n",
       "    <tr>\n",
       "      <th>4</th>\n",
       "      <td>2020-01-08</td>\n",
       "      <td>2.915794</td>\n",
       "      <td>2.915794</td>\n",
       "      <td>2.915794</td>\n",
       "      <td>2.915794</td>\n",
       "      <td>0</td>\n",
       "    </tr>\n",
       "    <tr>\n",
       "      <th>...</th>\n",
       "      <td>...</td>\n",
       "      <td>...</td>\n",
       "      <td>...</td>\n",
       "      <td>...</td>\n",
       "      <td>...</td>\n",
       "      <td>...</td>\n",
       "    </tr>\n",
       "    <tr>\n",
       "      <th>1001</th>\n",
       "      <td>2023-12-22</td>\n",
       "      <td>1.920405</td>\n",
       "      <td>1.920405</td>\n",
       "      <td>1.920405</td>\n",
       "      <td>1.920405</td>\n",
       "      <td>0</td>\n",
       "    </tr>\n",
       "    <tr>\n",
       "      <th>1002</th>\n",
       "      <td>2023-12-26</td>\n",
       "      <td>1.920405</td>\n",
       "      <td>1.920405</td>\n",
       "      <td>1.920405</td>\n",
       "      <td>1.920405</td>\n",
       "      <td>0</td>\n",
       "    </tr>\n",
       "    <tr>\n",
       "      <th>1003</th>\n",
       "      <td>2023-12-27</td>\n",
       "      <td>1.880809</td>\n",
       "      <td>1.969900</td>\n",
       "      <td>1.880809</td>\n",
       "      <td>1.969900</td>\n",
       "      <td>3000</td>\n",
       "    </tr>\n",
       "    <tr>\n",
       "      <th>1004</th>\n",
       "      <td>2023-12-28</td>\n",
       "      <td>1.880809</td>\n",
       "      <td>1.880809</td>\n",
       "      <td>1.880809</td>\n",
       "      <td>1.880809</td>\n",
       "      <td>0</td>\n",
       "    </tr>\n",
       "    <tr>\n",
       "      <th>1005</th>\n",
       "      <td>2023-12-29</td>\n",
       "      <td>1.880809</td>\n",
       "      <td>1.880809</td>\n",
       "      <td>1.880809</td>\n",
       "      <td>1.880809</td>\n",
       "      <td>0</td>\n",
       "    </tr>\n",
       "  </tbody>\n",
       "</table>\n",
       "<p>1006 rows × 6 columns</p>\n",
       "</div>"
      ],
      "text/plain": [
       "           Date     Close      High       Low      Open  Volume\n",
       "0    2020-01-02  2.915794  2.915794  2.915794  2.915794       0\n",
       "1    2020-01-03  2.915794  2.915794  2.915794  2.915794       0\n",
       "2    2020-01-06  2.915794  2.915794  2.915794  2.915794       0\n",
       "3    2020-01-07  2.915794  2.915794  2.915794  2.915794       0\n",
       "4    2020-01-08  2.915794  2.915794  2.915794  2.915794       0\n",
       "...         ...       ...       ...       ...       ...     ...\n",
       "1001 2023-12-22  1.920405  1.920405  1.920405  1.920405       0\n",
       "1002 2023-12-26  1.920405  1.920405  1.920405  1.920405       0\n",
       "1003 2023-12-27  1.880809  1.969900  1.880809  1.969900    3000\n",
       "1004 2023-12-28  1.880809  1.880809  1.880809  1.880809       0\n",
       "1005 2023-12-29  1.880809  1.880809  1.880809  1.880809       0\n",
       "\n",
       "[1006 rows x 6 columns]"
      ]
     },
     "metadata": {},
     "output_type": "display_data"
    }
   ],
   "source": [
    "display(smg_data)"
   ]
  },
  {
   "cell_type": "code",
   "execution_count": 112,
   "id": "ea94b896-bd9f-438e-985e-cba5a65ce801",
   "metadata": {},
   "outputs": [],
   "source": [
    "with pd.ExcelWriter('fnbStocks.xlsx') as writer:\n",
    "    smg_data.to_excel(writer, sheet_name='SanMiguel')\n",
    "    jbf_data.to_excel(writer, sheet_name='Jollibee')\n",
    "    uvr_data.to_excel(writer, sheet_name='Robina')\n",
    "    delm_data.to_excel(writer, sheet_name='DelMonte')"
   ]
  },
  {
   "cell_type": "markdown",
   "id": "280c6693-85a8-4b09-b310-7c35f0034ef1",
   "metadata": {},
   "source": [
    "check to see if your excel file is good."
   ]
  },
  {
   "cell_type": "code",
   "execution_count": 125,
   "id": "8b41d762-c1c5-4872-be23-8d7c477fa0da",
   "metadata": {},
   "outputs": [
    {
     "data": {
      "text/plain": [
       "<Axes: >"
      ]
     },
     "execution_count": 125,
     "metadata": {},
     "output_type": "execute_result"
    },
    {
     "data": {
      "image/png": "[encoded data removed]",
      "text/plain": [
       "<Figure size 1000x600 with 1 Axes>"
      ]
     },
     "metadata": {},
     "output_type": "display_data"
    }
   ],
   "source": [
    "smg_data['Volume'].plot(legend=True,figsize=(10,6))\n",
    "#historical view of volume for San Miguel Corp"
   ]
  },
  {
   "cell_type": "markdown",
   "id": "1871b56e-283d-47d1-9383-2b5a6478d341",
   "metadata": {},
   "source": [
    "Pivot a table from datetime"
   ]
  },
  {
   "cell_type": "code",
   "execution_count": 126,
   "id": "82e0cfbf-1747-4c3b-9157-3af6ef5007ca",
   "metadata": {},
   "outputs": [
    {
     "data": {
      "image/png": "[encoded data removed]",
      "text/plain": [
       "<Figure size 1000x600 with 1 Axes>"
      ]
     },
     "metadata": {},
     "output_type": "display_data"
    }
   ],
   "source": [
    "plt.figure(figsize=(10, 6))\n",
    "sns.lineplot(x='Date', y='Volume', data=jbf_data, marker='o')\n",
    "plt.xticks(rotation=45)\n",
    "plt.title('Jollibee Foods Corps')\n",
    "plt.xlabel('Volume over Year and Month')\n",
    "plt.tight_layout()\n",
    "plt.show()"
   ]
  },
  {
   "cell_type": "markdown",
   "id": "9f852cb0-8afd-48c3-9dda-3d3423bb2ec1",
   "metadata": {},
   "source": [
    "historical view of volume for Jollibee"
   ]
  },
  {
   "cell_type": "code",
   "execution_count": 127,
   "id": "0eebde0f-dfd7-42c3-8d41-2e93c3351967",
   "metadata": {},
   "outputs": [
    {
     "data": {
      "text/html": [
       "<div>\n",
       "<style scoped>\n",
       "    .dataframe tbody tr th:only-of-type {\n",
       "        vertical-align: middle;\n",
       "    }\n",
       "\n",
       "    .dataframe tbody tr th {\n",
       "        vertical-align: top;\n",
       "    }\n",
       "\n",
       "    .dataframe thead th {\n",
       "        text-align: right;\n",
       "    }\n",
       "</style>\n",
       "<table border=\"1\" class=\"dataframe\">\n",
       "  <thead>\n",
       "    <tr style=\"text-align: right;\">\n",
       "      <th></th>\n",
       "      <th>Close</th>\n",
       "      <th>High</th>\n",
       "      <th>Low</th>\n",
       "      <th>Open</th>\n",
       "      <th>Volume</th>\n",
       "    </tr>\n",
       "    <tr>\n",
       "      <th>Date</th>\n",
       "      <th></th>\n",
       "      <th></th>\n",
       "      <th></th>\n",
       "      <th></th>\n",
       "      <th></th>\n",
       "    </tr>\n",
       "  </thead>\n",
       "  <tbody>\n",
       "    <tr>\n",
       "      <th>2020-01-02</th>\n",
       "      <td>2.538393</td>\n",
       "      <td>2.538393</td>\n",
       "      <td>2.538393</td>\n",
       "      <td>2.538393</td>\n",
       "      <td>0</td>\n",
       "    </tr>\n",
       "    <tr>\n",
       "      <th>2020-01-03</th>\n",
       "      <td>2.538393</td>\n",
       "      <td>2.538393</td>\n",
       "      <td>2.538393</td>\n",
       "      <td>2.538393</td>\n",
       "      <td>0</td>\n",
       "    </tr>\n",
       "    <tr>\n",
       "      <th>2020-01-06</th>\n",
       "      <td>2.538393</td>\n",
       "      <td>2.538393</td>\n",
       "      <td>2.538393</td>\n",
       "      <td>2.538393</td>\n",
       "      <td>0</td>\n",
       "    </tr>\n",
       "    <tr>\n",
       "      <th>2020-01-07</th>\n",
       "      <td>2.538393</td>\n",
       "      <td>2.538393</td>\n",
       "      <td>2.538393</td>\n",
       "      <td>2.538393</td>\n",
       "      <td>0</td>\n",
       "    </tr>\n",
       "    <tr>\n",
       "      <th>2020-01-08</th>\n",
       "      <td>2.538393</td>\n",
       "      <td>2.538393</td>\n",
       "      <td>2.538393</td>\n",
       "      <td>2.538393</td>\n",
       "      <td>0</td>\n",
       "    </tr>\n",
       "    <tr>\n",
       "      <th>...</th>\n",
       "      <td>...</td>\n",
       "      <td>...</td>\n",
       "      <td>...</td>\n",
       "      <td>...</td>\n",
       "      <td>...</td>\n",
       "    </tr>\n",
       "    <tr>\n",
       "      <th>2023-12-22</th>\n",
       "      <td>1.870327</td>\n",
       "      <td>1.870327</td>\n",
       "      <td>1.870327</td>\n",
       "      <td>1.870327</td>\n",
       "      <td>0</td>\n",
       "    </tr>\n",
       "    <tr>\n",
       "      <th>2023-12-26</th>\n",
       "      <td>1.831961</td>\n",
       "      <td>1.831961</td>\n",
       "      <td>1.831961</td>\n",
       "      <td>1.831961</td>\n",
       "      <td>7600</td>\n",
       "    </tr>\n",
       "    <tr>\n",
       "      <th>2023-12-27</th>\n",
       "      <td>1.831961</td>\n",
       "      <td>1.831961</td>\n",
       "      <td>1.831961</td>\n",
       "      <td>1.831961</td>\n",
       "      <td>0</td>\n",
       "    </tr>\n",
       "    <tr>\n",
       "      <th>2023-12-28</th>\n",
       "      <td>1.831961</td>\n",
       "      <td>1.831961</td>\n",
       "      <td>1.831961</td>\n",
       "      <td>1.831961</td>\n",
       "      <td>0</td>\n",
       "    </tr>\n",
       "    <tr>\n",
       "      <th>2023-12-29</th>\n",
       "      <td>1.927875</td>\n",
       "      <td>1.927875</td>\n",
       "      <td>1.927875</td>\n",
       "      <td>1.927875</td>\n",
       "      <td>2500</td>\n",
       "    </tr>\n",
       "  </tbody>\n",
       "</table>\n",
       "<p>1006 rows × 5 columns</p>\n",
       "</div>"
      ],
      "text/plain": [
       "               Close      High       Low      Open  Volume\n",
       "Date                                                      \n",
       "2020-01-02  2.538393  2.538393  2.538393  2.538393       0\n",
       "2020-01-03  2.538393  2.538393  2.538393  2.538393       0\n",
       "2020-01-06  2.538393  2.538393  2.538393  2.538393       0\n",
       "2020-01-07  2.538393  2.538393  2.538393  2.538393       0\n",
       "2020-01-08  2.538393  2.538393  2.538393  2.538393       0\n",
       "...              ...       ...       ...       ...     ...\n",
       "2023-12-22  1.870327  1.870327  1.870327  1.870327       0\n",
       "2023-12-26  1.831961  1.831961  1.831961  1.831961    7600\n",
       "2023-12-27  1.831961  1.831961  1.831961  1.831961       0\n",
       "2023-12-28  1.831961  1.831961  1.831961  1.831961       0\n",
       "2023-12-29  1.927875  1.927875  1.927875  1.927875    2500\n",
       "\n",
       "[1006 rows x 5 columns]"
      ]
     },
     "metadata": {},
     "output_type": "display_data"
    }
   ],
   "source": [
    "display(uvr_data)"
   ]
  },
  {
   "cell_type": "code",
   "execution_count": 131,
   "id": "be027dc2-4f2a-4f16-bf45-14c4d12a4274",
   "metadata": {},
   "outputs": [
    {
     "data": {
      "text/html": [
       "<div>\n",
       "<style scoped>\n",
       "    .dataframe tbody tr th:only-of-type {\n",
       "        vertical-align: middle;\n",
       "    }\n",
       "\n",
       "    .dataframe tbody tr th {\n",
       "        vertical-align: top;\n",
       "    }\n",
       "\n",
       "    .dataframe thead th {\n",
       "        text-align: right;\n",
       "    }\n",
       "</style>\n",
       "<table border=\"1\" class=\"dataframe\">\n",
       "  <thead>\n",
       "    <tr style=\"text-align: right;\">\n",
       "      <th></th>\n",
       "      <th>index</th>\n",
       "      <th>Date</th>\n",
       "      <th>Close</th>\n",
       "      <th>High</th>\n",
       "      <th>Low</th>\n",
       "      <th>Open</th>\n",
       "      <th>Volume</th>\n",
       "    </tr>\n",
       "  </thead>\n",
       "  <tbody>\n",
       "    <tr>\n",
       "      <th>0</th>\n",
       "      <td>0</td>\n",
       "      <td>2020-01-02</td>\n",
       "      <td>2.538393</td>\n",
       "      <td>2.538393</td>\n",
       "      <td>2.538393</td>\n",
       "      <td>2.538393</td>\n",
       "      <td>0</td>\n",
       "    </tr>\n",
       "    <tr>\n",
       "      <th>1</th>\n",
       "      <td>1</td>\n",
       "      <td>2020-01-03</td>\n",
       "      <td>2.538393</td>\n",
       "      <td>2.538393</td>\n",
       "      <td>2.538393</td>\n",
       "      <td>2.538393</td>\n",
       "      <td>0</td>\n",
       "    </tr>\n",
       "    <tr>\n",
       "      <th>2</th>\n",
       "      <td>2</td>\n",
       "      <td>2020-01-06</td>\n",
       "      <td>2.538393</td>\n",
       "      <td>2.538393</td>\n",
       "      <td>2.538393</td>\n",
       "      <td>2.538393</td>\n",
       "      <td>0</td>\n",
       "    </tr>\n",
       "    <tr>\n",
       "      <th>3</th>\n",
       "      <td>3</td>\n",
       "      <td>2020-01-07</td>\n",
       "      <td>2.538393</td>\n",
       "      <td>2.538393</td>\n",
       "      <td>2.538393</td>\n",
       "      <td>2.538393</td>\n",
       "      <td>0</td>\n",
       "    </tr>\n",
       "    <tr>\n",
       "      <th>4</th>\n",
       "      <td>4</td>\n",
       "      <td>2020-01-08</td>\n",
       "      <td>2.538393</td>\n",
       "      <td>2.538393</td>\n",
       "      <td>2.538393</td>\n",
       "      <td>2.538393</td>\n",
       "      <td>0</td>\n",
       "    </tr>\n",
       "    <tr>\n",
       "      <th>...</th>\n",
       "      <td>...</td>\n",
       "      <td>...</td>\n",
       "      <td>...</td>\n",
       "      <td>...</td>\n",
       "      <td>...</td>\n",
       "      <td>...</td>\n",
       "      <td>...</td>\n",
       "    </tr>\n",
       "    <tr>\n",
       "      <th>1001</th>\n",
       "      <td>1001</td>\n",
       "      <td>2023-12-22</td>\n",
       "      <td>1.870327</td>\n",
       "      <td>1.870327</td>\n",
       "      <td>1.870327</td>\n",
       "      <td>1.870327</td>\n",
       "      <td>0</td>\n",
       "    </tr>\n",
       "    <tr>\n",
       "      <th>1002</th>\n",
       "      <td>1002</td>\n",
       "      <td>2023-12-26</td>\n",
       "      <td>1.831961</td>\n",
       "      <td>1.831961</td>\n",
       "      <td>1.831961</td>\n",
       "      <td>1.831961</td>\n",
       "      <td>7600</td>\n",
       "    </tr>\n",
       "    <tr>\n",
       "      <th>1003</th>\n",
       "      <td>1003</td>\n",
       "      <td>2023-12-27</td>\n",
       "      <td>1.831961</td>\n",
       "      <td>1.831961</td>\n",
       "      <td>1.831961</td>\n",
       "      <td>1.831961</td>\n",
       "      <td>0</td>\n",
       "    </tr>\n",
       "    <tr>\n",
       "      <th>1004</th>\n",
       "      <td>1004</td>\n",
       "      <td>2023-12-28</td>\n",
       "      <td>1.831961</td>\n",
       "      <td>1.831961</td>\n",
       "      <td>1.831961</td>\n",
       "      <td>1.831961</td>\n",
       "      <td>0</td>\n",
       "    </tr>\n",
       "    <tr>\n",
       "      <th>1005</th>\n",
       "      <td>1005</td>\n",
       "      <td>2023-12-29</td>\n",
       "      <td>1.927875</td>\n",
       "      <td>1.927875</td>\n",
       "      <td>1.927875</td>\n",
       "      <td>1.927875</td>\n",
       "      <td>2500</td>\n",
       "    </tr>\n",
       "  </tbody>\n",
       "</table>\n",
       "<p>1006 rows × 7 columns</p>\n",
       "</div>"
      ],
      "text/plain": [
       "      index       Date     Close      High       Low      Open  Volume\n",
       "0         0 2020-01-02  2.538393  2.538393  2.538393  2.538393       0\n",
       "1         1 2020-01-03  2.538393  2.538393  2.538393  2.538393       0\n",
       "2         2 2020-01-06  2.538393  2.538393  2.538393  2.538393       0\n",
       "3         3 2020-01-07  2.538393  2.538393  2.538393  2.538393       0\n",
       "4         4 2020-01-08  2.538393  2.538393  2.538393  2.538393       0\n",
       "...     ...        ...       ...       ...       ...       ...     ...\n",
       "1001   1001 2023-12-22  1.870327  1.870327  1.870327  1.870327       0\n",
       "1002   1002 2023-12-26  1.831961  1.831961  1.831961  1.831961    7600\n",
       "1003   1003 2023-12-27  1.831961  1.831961  1.831961  1.831961       0\n",
       "1004   1004 2023-12-28  1.831961  1.831961  1.831961  1.831961       0\n",
       "1005   1005 2023-12-29  1.927875  1.927875  1.927875  1.927875    2500\n",
       "\n",
       "[1006 rows x 7 columns]"
      ]
     },
     "metadata": {},
     "output_type": "display_data"
    }
   ],
   "source": [
    "# Convert 'date_column' to datetime format\n",
    "uvr_data = uvr_data.reset_index(drop=False)\n",
    "display(uvr_data)"
   ]
  },
  {
   "cell_type": "code",
   "execution_count": 210,
   "id": "d9673cda-f3b7-4b4e-b24c-c8fda772b282",
   "metadata": {},
   "outputs": [
    {
     "data": {
      "text/plain": [
       "<Axes: xlabel='Date', ylabel='Close'>"
      ]
     },
     "execution_count": 210,
     "metadata": {},
     "output_type": "execute_result"
    },
    {
     "data": {
      "image/png": "[encoded data removed]",
      "text/plain": [
       "<Figure size 1170x827 with 1 Axes>"
      ]
     },
     "metadata": {},
     "output_type": "display_data"
    }
   ],
   "source": [
    "sns.set_theme(rc={'figure.figsize':(11.7,8.27)})\n",
    "sns.lineplot(data=smg_data, x='Date', y='Close', label='San Miguel')\n",
    "sns.lineplot(data=delm_data, x='Date', y='Close', label='Mondelez')\n",
    "sns.lineplot(data=uvr_data, x='Date', y='Close', label='Robina')\n",
    "sns.lineplot(data=jbf_data, x='Date', y='Close', label='Jabee')"
   ]
  },
  {
   "cell_type": "markdown",
   "id": "c4da3c7f-85e4-4622-be75-e994c33496b5",
   "metadata": {},
   "source": [
    "historical comparison of Closing price of Stocks "
   ]
  }
 ],
 "metadata": {
  "kernelspec": {
   "display_name": "Python 3 (ipykernel)",
   "language": "python",
   "name": "python3"
  },
  "language_info": {
   "codemirror_mode": {
    "name": "ipython",
    "version": 3
   },
   "file_extension": ".py",
   "mimetype": "text/x-python",
   "name": "python",
   "nbconvert_exporter": "python",
   "pygments_lexer": "ipython3",
   "version": "3.12.3"
  }
 },
 "nbformat": 4,
 "nbformat_minor": 5
}
